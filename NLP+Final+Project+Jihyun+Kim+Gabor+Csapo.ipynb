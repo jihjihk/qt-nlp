{
 "cells": [
  {
   "cell_type": "markdown",
   "metadata": {},
   "source": [
    "\n",
    "![Translate](translate.jpg)\n",
    "\n",
    "# Project QT: English to Arabic Translation by Keyword Search\n",
    "\n",
    "\n",
    "## Jihyun Kim & Gabor Csapo\n"
   ]
  },
  {
   "cell_type": "markdown",
   "metadata": {},
   "source": [
    "## Project Description\n",
    "\n",
    "This project aims to build a prototype of an English to Arabic translation system that receive keywords as input and return full sentence translations. We are using the Basic Travel Expression Corpus (BTEC) database, which contains 20,000 travel-related phrases that are human translated into English, Arabic, and French. By utilizing this high-quality, travel-specific translated phrases, we will focus on implementing a cross-lingual, machine mediated phrase conversation tool by keyword search, rather than implenmenting a statisical or rule-based machine translation system, thus named the Query Translator (QT). This final project will be a starting point of a year-long capstone project to build a fully functional travel translator mobile application.\n",
    "\n",
    "## Background: Machine Translation\n",
    "\n",
    "Humans are relational beings. From the very moment of our birth, we exist in relation to others, and we continue to do so for the rest of our lives. And at the very core of these relationships lies communication - we express and receive thoughts, feelings, or ideas. Language has always been an integral part of communication - it is a system on which our verbal interactions are based. However, as as a result of globalization, language has also gained the potential to be an obstacle to communication (Jayaratne, 2003). Increased contact between different ethnicities and cultures have introduced both new possibilities for interaction and new problems for communication. Naturally, as human beings, we have striven to overcome this impediment.\n",
    "\n",
    "With the advent and rising availability of Machine Translation (MT) tools, we have come one step closer to smooth cross-lingual communication. Although researchers have made significant advancements since then, existing translation models are still incomplete. Challenges remain, especially in achieving high accuracy and speed. There are two main types of machine translation schemes: statistical (SMT) and rule-based (RBMT). For SMT models, the availability and size of the training set strictly limits the accuracy of translation. For RBMT models, the marginal cost of improving the accuracy is very high, as it requires specialized rule-specifications from humans. To solve these two challenges in the context of travel, this research proposes using triangulation and paraphrasing as alternative methods.\n",
    "\n",
    "The first of the two existing tools we look at for comparison is Google’s translation service, Google Translation, which focuses on translation between more than 10,000 language pairs. It uses Recurrent Neural Networks (RNNs) to directly learn the mapping between an input sequence to an output sequence (Sutskever et al., 2014). Initially, Google had been using the Phrased-Based Machine Translation (PMBT) approach to power its translation service. While the advancement of image and voice recognition tools improved its overall user experience, the service still ran into errors. In September 2016, Google introduced Google Neural Machine Translation system (GNMT), which attempts to address many drawbacks of the previous PMBT approach such as high cost of computation and lack of robustness for practical deployment. The GNMT model consists of a deep Long Short Term Memory (LSTM) network with 8 encoders and 8 decoder layers. Using human-rated, side-by-side comparison as a metric, the GNMT system successfully achieves similar accuracy to that of average bilingual human translators on popular language pairs such as English-Spanish, French-English, etcetera. \n",
    "\n",
    "Furthermore, compared to the previous PMBT system, it reduces translation errors by 60% (Wu et al., 2016). While Google Translate has improved greatly in the past year, it focuses on a much wider range of translation. Translation for non-popular language pairs is also still not as accurate. Furthermore, missing a word or two from the sentence significantly skews the translation result, as the GNMT system compares the whole sentence instead of phrases when finding appropriate translation output.\n",
    "\n",
    "Another translation tool that we compare is iTranslate, which is is a universal app that supports instant voice and text translation on multiple platforms. It is based in Austria and started with improving translation for every European language pair. It is now working towards making more language pairs available. It has unique features such as conversation-like history log and slide-in screen that makes its user interface more suitable for a continuous translated conversation, while Google Translate is better for one-time, high-accuracy, various language pair translation. Nonetheless, iTranslate still lacks the feature of allowing keyword-only input and only supports transliteration between more rare language pairs.\n",
    "\n",
    "## Problem\n",
    "\n",
    "Despite the improving accuracy and accessibility of various MT tools, we are still far from a seamless multilingulal conmmunication, especially during travel, due to several reasons such as but not limited to:\n",
    "\n",
    "1. Accuracy between distant language pairs, especially in unstructured language, is still low.\n",
    "2. Conversation flow is frequently interupted by translator use eg) typing in a full sentence.\n",
    "3. Offline access is limited\n",
    "4. Delivery of translated sentence is also difficult if the user doesn't know how to properly pronounce the translated output or the environment is noisy.\n",
    "\n",
    "## Our Solution\n",
    "\n",
    "Our application QT aims to provide a solution to these problems by creating a mobile application that can quickly translate a string of keywords into full sentences. We will organize a storing schema of translated phrases in order to achieve high accuracy. Moreover, we also intend for the translation process to be highly efficient through devising efficient database lookup schemes for the stored information.\n",
    "\n",
    "This specific segment will focus on how to retrieve the most fitting translation for the user keywords. This Jupyter Notebook is a documentation of how this segment was carried out, following the outline below.\n"
   ]
  },
  {
   "cell_type": "markdown",
   "metadata": {},
   "source": [
    "## Project Outline\n",
    "\n",
    "1. Understanding the corpus\n",
    "    - Stemming and tokenizing the sentences\n",
    "    - Constructing a customized stopword list\n",
    "    - Vectorizing and clustering of sentences\n",
    "2. Simple implementation of keyword search translation\n",
    "3. Candidate sentence ranking by measuring sentence similarity\n",
    "\n",
    "#### Note: Due to copyright issues, Basic Travel Expression Corpus could not to be shared. Only parts of the corpus will be sampled and displayed in this documentation."
   ]
  },
  {
   "cell_type": "markdown",
   "metadata": {},
   "source": [
    "## 1. Understanding the corpus\n",
    "\n",
    "As a part of understanding the corpus, we first read in the English and Arabic BTEC files, organized them into dictionaries, and used the NLTK snowball stemmer to stem all sentences. There was the intial problem of different encoding for Arabic scripts, for which we had to specify utf-8 when reading in the file.\n",
    "\n",
    "### Reading in the files"
   ]
  },
  {
   "cell_type": "code",
   "execution_count": 171,
   "metadata": {
    "collapsed": true
   },
   "outputs": [],
   "source": [
    "# Importing all the essential libraries.\n",
    "import nltk\n",
    "from nltk.tokenize import word_tokenize\n",
    "import re\n",
    "import os\n",
    "import codecs\n",
    "from sklearn import feature_extraction\n",
    "import collections\n",
    "\n",
    "import numpy as np\n",
    "import pandas as pd\n",
    "import matplotlib.pyplot as plt\n",
    "import seaborn as sns\n",
    "\n",
    "%matplotlib inline"
   ]
  },
  {
   "cell_type": "code",
   "execution_count": 172,
   "metadata": {
    "collapsed": true
   },
   "outputs": [],
   "source": [
    "# Defining a function to parse through the corpus and store every sentence \n",
    "# into an empty list.\n",
    "\n",
    "def corp_to_list(file):\n",
    "    phr = []\n",
    "    with open(file, 'r') as f:\n",
    "        for line in f:\n",
    "            phr.append(line[:-1])\n",
    "    return phr\n",
    "\n",
    "# Defining a function to parse through the corpus and store every sentence\n",
    "# into an empty dictionary.\n",
    "# Key is the incremented counter and value is the sentence.\n",
    "\n",
    "def corp_to_dic(file):\n",
    "    dic = {}\n",
    "    counter = 0\n",
    "    with open(file, 'r') as f:\n",
    "        for line in f:\n",
    "            dic[counter] = line[:-1]\n",
    "            counter += 1\n",
    "    return dic"
   ]
  },
  {
   "cell_type": "code",
   "execution_count": 173,
   "metadata": {
    "collapsed": true
   },
   "outputs": [],
   "source": [
    "# Here we create en_phr and en_dic which both contain sentences from \n",
    "# the English version of the corpus.\n",
    "# Trying to run the same functions on the Arabic corpus has some wrong\n",
    "# outputs due to its Right-to-Left encoding.\n",
    "\n",
    "en_phr = corp_to_list('en')\n",
    "en_dic = corp_to_dic('en')"
   ]
  },
  {
   "cell_type": "code",
   "execution_count": 174,
   "metadata": {
    "collapsed": true
   },
   "outputs": [],
   "source": [
    "#Adjusted parsing for Arabic corpus, accounting for the different encoding.\n",
    "ar_phr = []\n",
    "ar_dic = {}\n",
    "counter = 0\n",
    "with open('clean/ar','r',encoding='utf-8') as arf:\n",
    "    for line in arf:\n",
    "        line = line[:-1]\n",
    "        ar_phr.append(line)\n",
    "        ar_dic[counter] = line\n",
    "        counter += 1"
   ]
  },
  {
   "cell_type": "code",
   "execution_count": 175,
   "metadata": {},
   "outputs": [
    {
     "data": {
      "text/plain": [
       "['إنها في أخر القاعة . سوف آتي لك ببعض منها الآن . إذا أردت أي شيئاً آخر فقط أعلمني .',\n",
       " 'لا تقلق من ذلك . سوف آخذها ولن تحتاج إلى لفها .',\n",
       " 'هل تقومون بعمل تعديلات ؟',\n",
       " 'الإشارة كانت حمراء .',\n",
       " 'نريد مائدة بجانب النافذة .',\n",
       " 'هناك ، أمام بيانات السائح تماما .',\n",
       " 'لقد التوت أثناء لعبي التنس . شعرت أنها سليمة بعد انتهاء اللعب لكنها اسودت وازرقت بعد ذلك ، هل الأمر خطير ؟',\n",
       " 'من فضلك ادخل رقم التحديد الشخصي الخاصة بك .',\n",
       " 'هذه هي أول مرة أمارس فيها الغطس .',\n",
       " 'لم اسمع بهذا العنوان من قبل بالقرب من هنا .']"
      ]
     },
     "execution_count": 175,
     "metadata": {},
     "output_type": "execute_result"
    }
   ],
   "source": [
    "#Printing the first 10 phrases to test. The punctuations appear misplaced\n",
    "# because they are encoded as the usual LTR not RTL.\n",
    "ar_phr[:10]"
   ]
  },
  {
   "cell_type": "code",
   "execution_count": 176,
   "metadata": {},
   "outputs": [
    {
     "name": "stdout",
     "output_type": "stream",
     "text": [
      "Sentence number 10 in Arabic corpus is  أشعر بألم شديد هنا .\n",
      "Sentence number 10 in English corpus is  I have a sore pain here.\n"
     ]
    }
   ],
   "source": [
    "#Printing a random element in both dictionaries to crosscheck dict order.\n",
    "print(\"Sentence number 10 in Arabic corpus is  \" + ar_dic[10])\n",
    "print(\"Sentence number 10 in English corpus is  \" + en_dic[10])"
   ]
  },
  {
   "cell_type": "markdown",
   "metadata": {},
   "source": [
    "### Tokenizing and Stemming the Sentences\n",
    "\n",
    "Here we use the NLTK Snowball Stemmer to tokenize and stem the sentences for more accurate portrayal of the type of words that are frequently used in this corpus."
   ]
  },
  {
   "cell_type": "code",
   "execution_count": 177,
   "metadata": {
    "collapsed": true
   },
   "outputs": [],
   "source": [
    "from nltk.stem.snowball import SnowballStemmer\n",
    "stemmer = SnowballStemmer(\"english\")"
   ]
  },
  {
   "cell_type": "code",
   "execution_count": 178,
   "metadata": {
    "collapsed": true
   },
   "outputs": [],
   "source": [
    "#Defining the tokenize and stem functions\n",
    "def tokenize_and_stem(text):\n",
    "    #Tokenizing including the punctuation\n",
    "    tokens = [word for sent in nltk.sent_tokenize(text) for word in nltk.word_tokenize(sent)]\n",
    "    filtered = []\n",
    "    #Remove any non-letters\n",
    "    for token in tokens:\n",
    "        if re.search('[a-zA-Z]', token):\n",
    "            filtered.append(token)\n",
    "    stems = [stemmer.stem(t) for t in filtered]\n",
    "    return stems\n",
    "\n",
    "#Defining the same tokenizing function but without stemming the words.\n",
    "def tokenize(text):\n",
    "    tokens = [word.lower() for sent in nltk.sent_tokenize(text) for word in nltk.word_tokenize(sent)]\n",
    "    filtered = []\n",
    "    for token in tokens:\n",
    "        if re.search('[a-zA-Z]', token):\n",
    "            filtered.append(token)\n",
    "    return filtered"
   ]
  },
  {
   "cell_type": "code",
   "execution_count": 179,
   "metadata": {
    "collapsed": true
   },
   "outputs": [],
   "source": [
    "all_stem = []\n",
    "all_token = []\n",
    "\n",
    "for phr in en_phr:\n",
    "    each_stem = tokenize_and_stem(phr)\n",
    "    all_stem.extend(each_stem)\n",
    "    each_token = tokenize(phr)\n",
    "    all_token.extend(each_token)"
   ]
  },
  {
   "cell_type": "code",
   "execution_count": 180,
   "metadata": {},
   "outputs": [
    {
     "name": "stdout",
     "output_type": "stream",
     "text": [
      "there are 159842 items in vocab_frame\n"
     ]
    }
   ],
   "source": [
    "token_df = pd.DataFrame({'tokens': all_token})\n",
    "print('there are ' + str(token_df.shape[0]) + ' items in vocab_frame')"
   ]
  },
  {
   "cell_type": "markdown",
   "metadata": {},
   "source": [
    "From this analysis, we can see that there are almost 160,000 non-unique tokens. To remove duplicates and aggregate the count of all unique tokens, we created a dataframe as below. It is now narrowed down to 7,152 unique tokens."
   ]
  },
  {
   "cell_type": "code",
   "execution_count": 206,
   "metadata": {},
   "outputs": [
    {
     "data": {
      "text/html": [
       "<div>\n",
       "<table border=\"1\" class=\"dataframe\">\n",
       "  <thead>\n",
       "    <tr style=\"text-align: right;\">\n",
       "      <th></th>\n",
       "      <th>count</th>\n",
       "    </tr>\n",
       "    <tr>\n",
       "      <th>tokens</th>\n",
       "      <th></th>\n",
       "    </tr>\n",
       "  </thead>\n",
       "  <tbody>\n",
       "    <tr>\n",
       "      <th>i</th>\n",
       "      <td>7920</td>\n",
       "    </tr>\n",
       "    <tr>\n",
       "      <th>the</th>\n",
       "      <td>5820</td>\n",
       "    </tr>\n",
       "    <tr>\n",
       "      <th>you</th>\n",
       "      <td>5193</td>\n",
       "    </tr>\n",
       "    <tr>\n",
       "      <th>a</th>\n",
       "      <td>4888</td>\n",
       "    </tr>\n",
       "    <tr>\n",
       "      <th>to</th>\n",
       "      <td>4445</td>\n",
       "    </tr>\n",
       "    <tr>\n",
       "      <th>is</th>\n",
       "      <td>3173</td>\n",
       "    </tr>\n",
       "    <tr>\n",
       "      <th>please</th>\n",
       "      <td>2775</td>\n",
       "    </tr>\n",
       "    <tr>\n",
       "      <th>it</th>\n",
       "      <td>2747</td>\n",
       "    </tr>\n",
       "    <tr>\n",
       "      <th>have</th>\n",
       "      <td>2371</td>\n",
       "    </tr>\n",
       "    <tr>\n",
       "      <th>this</th>\n",
       "      <td>2206</td>\n",
       "    </tr>\n",
       "    <tr>\n",
       "      <th>'s</th>\n",
       "      <td>2057</td>\n",
       "    </tr>\n",
       "    <tr>\n",
       "      <th>for</th>\n",
       "      <td>2018</td>\n",
       "    </tr>\n",
       "    <tr>\n",
       "      <th>like</th>\n",
       "      <td>1941</td>\n",
       "    </tr>\n",
       "    <tr>\n",
       "      <th>do</th>\n",
       "      <td>1923</td>\n",
       "    </tr>\n",
       "    <tr>\n",
       "      <th>in</th>\n",
       "      <td>1745</td>\n",
       "    </tr>\n",
       "    <tr>\n",
       "      <th>me</th>\n",
       "      <td>1692</td>\n",
       "    </tr>\n",
       "    <tr>\n",
       "      <th>my</th>\n",
       "      <td>1620</td>\n",
       "    </tr>\n",
       "    <tr>\n",
       "      <th>of</th>\n",
       "      <td>1543</td>\n",
       "    </tr>\n",
       "    <tr>\n",
       "      <th>can</th>\n",
       "      <td>1497</td>\n",
       "    </tr>\n",
       "    <tr>\n",
       "      <th>'d</th>\n",
       "      <td>1450</td>\n",
       "    </tr>\n",
       "    <tr>\n",
       "      <th>and</th>\n",
       "      <td>1330</td>\n",
       "    </tr>\n",
       "    <tr>\n",
       "      <th>what</th>\n",
       "      <td>1113</td>\n",
       "    </tr>\n",
       "    <tr>\n",
       "      <th>we</th>\n",
       "      <td>1081</td>\n",
       "    </tr>\n",
       "    <tr>\n",
       "      <th>n't</th>\n",
       "      <td>1071</td>\n",
       "    </tr>\n",
       "    <tr>\n",
       "      <th>on</th>\n",
       "      <td>1061</td>\n",
       "    </tr>\n",
       "    <tr>\n",
       "      <th>how</th>\n",
       "      <td>1031</td>\n",
       "    </tr>\n",
       "    <tr>\n",
       "      <th>there</th>\n",
       "      <td>999</td>\n",
       "    </tr>\n",
       "    <tr>\n",
       "      <th>are</th>\n",
       "      <td>966</td>\n",
       "    </tr>\n",
       "    <tr>\n",
       "      <th>your</th>\n",
       "      <td>924</td>\n",
       "    </tr>\n",
       "    <tr>\n",
       "      <th>that</th>\n",
       "      <td>891</td>\n",
       "    </tr>\n",
       "  </tbody>\n",
       "</table>\n",
       "</div>"
      ],
      "text/plain": [
       "        count\n",
       "tokens       \n",
       "i        7920\n",
       "the      5820\n",
       "you      5193\n",
       "a        4888\n",
       "to       4445\n",
       "is       3173\n",
       "please   2775\n",
       "it       2747\n",
       "have     2371\n",
       "this     2206\n",
       "'s       2057\n",
       "for      2018\n",
       "like     1941\n",
       "do       1923\n",
       "in       1745\n",
       "me       1692\n",
       "my       1620\n",
       "of       1543\n",
       "can      1497\n",
       "'d       1450\n",
       "and      1330\n",
       "what     1113\n",
       "we       1081\n",
       "n't      1071\n",
       "on       1061\n",
       "how      1031\n",
       "there     999\n",
       "are       966\n",
       "your      924\n",
       "that      891"
      ]
     },
     "execution_count": 206,
     "metadata": {},
     "output_type": "execute_result"
    }
   ],
   "source": [
    "# Creating a new dataframe of all unique tokens and their occurence count\n",
    "unique_tokens = token_df.groupby(token_df.columns.tolist()).size().reset_index().rename(columns={0:'count'})\n",
    "unique_tokens = unique_tokens.sort_values('count', ascending=False)\n",
    "unique_tokens = unique_tokens.set_index('tokens')\n",
    "unique_tokens[:30]"
   ]
  },
  {
   "cell_type": "markdown",
   "metadata": {},
   "source": [
    "Alternatively, we can use the FreqDist method in NLTK to count all unique tokens in our corpus, which shows a little different count than the manually counted version above."
   ]
  },
  {
   "cell_type": "code",
   "execution_count": 190,
   "metadata": {
    "collapsed": true
   },
   "outputs": [],
   "source": [
    "fd = nltk.FreqDist(all_stem)\n",
    "fd_df = pd.DataFrame(list(fd.items()), columns=['Tokens', 'Count'])\n",
    "fd_df = fd_df.sort_values('Count', ascending=False).set_index('Tokens')"
   ]
  },
  {
   "cell_type": "code",
   "execution_count": 207,
   "metadata": {},
   "outputs": [
    {
     "data": {
      "text/html": [
       "<div>\n",
       "<table border=\"1\" class=\"dataframe\">\n",
       "  <thead>\n",
       "    <tr style=\"text-align: right;\">\n",
       "      <th></th>\n",
       "      <th>Count</th>\n",
       "    </tr>\n",
       "    <tr>\n",
       "      <th>Tokens</th>\n",
       "      <th></th>\n",
       "    </tr>\n",
       "  </thead>\n",
       "  <tbody>\n",
       "    <tr>\n",
       "      <th>i</th>\n",
       "      <td>7920</td>\n",
       "    </tr>\n",
       "    <tr>\n",
       "      <th>the</th>\n",
       "      <td>5820</td>\n",
       "    </tr>\n",
       "    <tr>\n",
       "      <th>you</th>\n",
       "      <td>5193</td>\n",
       "    </tr>\n",
       "    <tr>\n",
       "      <th>a</th>\n",
       "      <td>4888</td>\n",
       "    </tr>\n",
       "    <tr>\n",
       "      <th>to</th>\n",
       "      <td>4445</td>\n",
       "    </tr>\n",
       "    <tr>\n",
       "      <th>is</th>\n",
       "      <td>3173</td>\n",
       "    </tr>\n",
       "    <tr>\n",
       "      <th>pleas</th>\n",
       "      <td>2782</td>\n",
       "    </tr>\n",
       "    <tr>\n",
       "      <th>it</th>\n",
       "      <td>2765</td>\n",
       "    </tr>\n",
       "    <tr>\n",
       "      <th>have</th>\n",
       "      <td>2405</td>\n",
       "    </tr>\n",
       "    <tr>\n",
       "      <th>this</th>\n",
       "      <td>2206</td>\n",
       "    </tr>\n",
       "    <tr>\n",
       "      <th>'s</th>\n",
       "      <td>2057</td>\n",
       "    </tr>\n",
       "    <tr>\n",
       "      <th>for</th>\n",
       "      <td>2018</td>\n",
       "    </tr>\n",
       "    <tr>\n",
       "      <th>like</th>\n",
       "      <td>1948</td>\n",
       "    </tr>\n",
       "    <tr>\n",
       "      <th>do</th>\n",
       "      <td>1933</td>\n",
       "    </tr>\n",
       "    <tr>\n",
       "      <th>in</th>\n",
       "      <td>1745</td>\n",
       "    </tr>\n",
       "    <tr>\n",
       "      <th>me</th>\n",
       "      <td>1692</td>\n",
       "    </tr>\n",
       "    <tr>\n",
       "      <th>my</th>\n",
       "      <td>1620</td>\n",
       "    </tr>\n",
       "    <tr>\n",
       "      <th>of</th>\n",
       "      <td>1543</td>\n",
       "    </tr>\n",
       "    <tr>\n",
       "      <th>can</th>\n",
       "      <td>1500</td>\n",
       "    </tr>\n",
       "    <tr>\n",
       "      <th>'d</th>\n",
       "      <td>1450</td>\n",
       "    </tr>\n",
       "    <tr>\n",
       "      <th>and</th>\n",
       "      <td>1330</td>\n",
       "    </tr>\n",
       "    <tr>\n",
       "      <th>what</th>\n",
       "      <td>1113</td>\n",
       "    </tr>\n",
       "    <tr>\n",
       "      <th>we</th>\n",
       "      <td>1081</td>\n",
       "    </tr>\n",
       "    <tr>\n",
       "      <th>n't</th>\n",
       "      <td>1071</td>\n",
       "    </tr>\n",
       "    <tr>\n",
       "      <th>on</th>\n",
       "      <td>1061</td>\n",
       "    </tr>\n",
       "    <tr>\n",
       "      <th>how</th>\n",
       "      <td>1031</td>\n",
       "    </tr>\n",
       "    <tr>\n",
       "      <th>there</th>\n",
       "      <td>999</td>\n",
       "    </tr>\n",
       "    <tr>\n",
       "      <th>are</th>\n",
       "      <td>966</td>\n",
       "    </tr>\n",
       "    <tr>\n",
       "      <th>your</th>\n",
       "      <td>933</td>\n",
       "    </tr>\n",
       "    <tr>\n",
       "      <th>that</th>\n",
       "      <td>891</td>\n",
       "    </tr>\n",
       "  </tbody>\n",
       "</table>\n",
       "</div>"
      ],
      "text/plain": [
       "        Count\n",
       "Tokens       \n",
       "i        7920\n",
       "the      5820\n",
       "you      5193\n",
       "a        4888\n",
       "to       4445\n",
       "is       3173\n",
       "pleas    2782\n",
       "it       2765\n",
       "have     2405\n",
       "this     2206\n",
       "'s       2057\n",
       "for      2018\n",
       "like     1948\n",
       "do       1933\n",
       "in       1745\n",
       "me       1692\n",
       "my       1620\n",
       "of       1543\n",
       "can      1500\n",
       "'d       1450\n",
       "and      1330\n",
       "what     1113\n",
       "we       1081\n",
       "n't      1071\n",
       "on       1061\n",
       "how      1031\n",
       "there     999\n",
       "are       966\n",
       "your      933\n",
       "that      891"
      ]
     },
     "execution_count": 207,
     "metadata": {},
     "output_type": "execute_result"
    }
   ],
   "source": [
    "fd_df[:30]"
   ]
  },
  {
   "cell_type": "markdown",
   "metadata": {},
   "source": [
    "To visualize the 50 most frequently tokens in the corpus, we created the histogram below."
   ]
  },
  {
   "cell_type": "code",
   "execution_count": 15,
   "metadata": {},
   "outputs": [
    {
     "data": {
      "text/plain": [
       "(array([ 0,  1,  2,  3,  4,  5,  6,  7,  8,  9, 10, 11, 12, 13, 14, 15, 16,\n",
       "        17, 18, 19, 20, 21, 22, 23, 24, 25, 26, 27, 28, 29, 30, 31, 32, 33,\n",
       "        34, 35, 36, 37, 38, 39, 40, 41, 42, 43, 44, 45, 46, 47, 48, 49]),\n",
       " <a list of 50 Text xticklabel objects>)"
      ]
     },
     "execution_count": 15,
     "metadata": {},
     "output_type": "execute_result"
    },
    {
     "data": {
      "image/png": "[encoded data removed]",
      "text/plain": [
       "<matplotlib.figure.Figure at 0x111a00668>"
      ]
     },
     "metadata": {},
     "output_type": "display_data"
    }
   ],
   "source": [
    "fd_df[:50].plot\n",
    "f, ax = plt.subplots(figsize=(15, 5))\n",
    "sns.barplot(x='Tokens', y=\"Count\", data=fd_df[:50], palette=\"Set3\")\n",
    "#plt.setp(ax.get_xticklabels(), rotation=30, fontsize=14)\n",
    "plt.xticks(rotation=60, fontsize=14)"
   ]
  },
  {
   "cell_type": "markdown",
   "metadata": {},
   "source": [
    "Plotting the frequency of the top 50 most frequently occuring tokens gives us an insight into what kind of words comprise these sentences. Some observations are:\n",
    "\n",
    "- Almost all of the top 50 tokens are pronouns, simple verbs, and interrogative words such as where, what, how.\n",
    "- The only noun in the top 50 is room, which reflects the corpus' nature in travel terminology.\n",
    "\n",
    "To gain a better insight into the corpus, we looked at n-grams (1,3) and then incorporated custom stopwords to calculate TF-IDF scores for each sentence."
   ]
  },
  {
   "cell_type": "code",
   "execution_count": 213,
   "metadata": {
    "collapsed": true
   },
   "outputs": [],
   "source": [
    "# Making a custom stopwords list\n",
    "from nltk.corpus import stopwords\n",
    "stopwords = nltk.corpus.stopwords.words('english')\n",
    "\n",
    "stops = set(stopwords)\n",
    "newstop = [x for x in stops]\n",
    "newstop.extend([\"'s\",\"'m\",\"'d\", 'like','sorry','thank','very','please','ca','wo',\"n't\", \"little\", \"possible\"])\n",
    "stopset = set(newstop)"
   ]
  },
  {
   "cell_type": "code",
   "execution_count": 214,
   "metadata": {
    "scrolled": true
   },
   "outputs": [
    {
     "name": "stdout",
     "output_type": "stream",
     "text": [
      "(19972, 798)\n",
      "There are a total of : 798 feature n-grams.\n"
     ]
    }
   ],
   "source": [
    "from sklearn.feature_extraction.text import TfidfVectorizer\n",
    "from sklearn.cluster import KMeans\n",
    "#define vectorizer parameters\n",
    "tfidf_vectorizer = TfidfVectorizer(max_df=0.8, min_df=0.001,max_features=200000, \\\n",
    "                                   use_idf=True, tokenizer=tokenize_and_stem, \\\n",
    "                                   stop_words=stopset,ngram_range=(1,4))\n",
    "tfidf_matrix = tfidf_vectorizer.fit_transform(en_phr) #fit the vectorizer to synopses\n",
    "print(tfidf_matrix.shape)\n",
    "\n",
    "terms = tfidf_vectorizer.get_feature_names()\n",
    "print(\"There are a total of : \"+str(len(terms))+\" feature n-grams.\")"
   ]
  },
  {
   "cell_type": "code",
   "execution_count": 215,
   "metadata": {},
   "outputs": [
    {
     "data": {
      "text/plain": [
       "['one two three four',\n",
       " 'excus could tell',\n",
       " 'one hundr dollar',\n",
       " 'could recommend',\n",
       " 'recommend good',\n",
       " 'two three four',\n",
       " 'flight number',\n",
       " 'four five six',\n",
       " 'long doe take',\n",
       " 'one two three',\n",
       " 'san francisco',\n",
       " 'speak japanes',\n",
       " 'tomorrow morn',\n",
       " 'twenti dollar',\n",
       " 'depart store',\n",
       " 'fifti dollar',\n",
       " 'hilton hotel',\n",
       " 'hundr dollar',\n",
       " 'make appoint',\n",
       " 'moment pleas']"
      ]
     },
     "execution_count": 215,
     "metadata": {},
     "output_type": "execute_result"
    }
   ],
   "source": [
    "terms.sort(key=len, reverse=True)\n",
    "terms[:20]"
   ]
  },
  {
   "cell_type": "markdown",
   "metadata": {},
   "source": [
    "Above cell prints the 20 longest n-grams in the corpus. Many of them indicate number values and common question phrases such as \"excuse could tell\" and \"recommend good\". This list alone says tells us a lot about the uniqueness of BTEC and its specific focus on travel vocabulary.\n",
    "\n",
    "### K-means Clustering by Similarity\n",
    "\n",
    "Now we further explored the sentences by using K-means clustering algorithm to cluster the sentences by their tf-idf matrices. We played around with different number of clusters to see how cluster contexts changed as the number of clusters increased.\n",
    "\n",
    "One observation from exploring with different number of clusters was that higher number of clusters was more likely to yield clusters fixated on \"local optimum\" of single words, such as \"little\", \"please\", \"possible\" and so on, rather than \"global optimum\" of general context.\n",
    "\n",
    "Displaying of all 20 clusters with 20,000 sentences was difficult, so the top 10 sentences of top 10 clusters are printed as sample."
   ]
  },
  {
   "cell_type": "code",
   "execution_count": 216,
   "metadata": {
    "collapsed": true
   },
   "outputs": [],
   "source": [
    "#define clustering function\n",
    "def cluster_sentences(sentences, vectorizer, nb_of_clusters):\n",
    "    #builds a tf-idf matrix for the sentences\n",
    "    tfidf_matrix = vectorizer.fit_transform(sentences)\n",
    "    kmeans = KMeans(n_clusters=nb_of_clusters)\n",
    "    kmeans.fit(tfidf_matrix)\n",
    "    clusters = collections.defaultdict(list)\n",
    "    \n",
    "    for i, label in enumerate(kmeans.labels_):\n",
    "            clusters[label].append(i)\n",
    "    return dict(clusters)"
   ]
  },
  {
   "cell_type": "code",
   "execution_count": 221,
   "metadata": {},
   "outputs": [
    {
     "name": "stdout",
     "output_type": "stream",
     "text": [
      "\n",
      "Cluster  0 :\n",
      "- How much is the breakfast?\n",
      "- How much is it to send a registered letter to France?\n",
      "- How much for a night?\n",
      "- How much is the service charge?\n",
      "- I'm afraid that's too much for me.\n",
      "- How much will it be without a cover?\n",
      "- There's so much to choose from. What do you think is a good value for my money?\n",
      "- How much do you charge for processing?\n",
      "- How much is it in all?\n",
      "- How much is the price with tax?\n",
      "\n",
      "Cluster  1 :\n",
      "- Could you keep this baggage?\n",
      "- Could you please change my seat?\n",
      "- Could you tell me how to get to the opera?\n",
      "- Could you help me find my suitcase?\n",
      "- Could you spell it?\n",
      "- Could you please do a make-over for me?\n",
      "- It's our understanding that you operate various types of shops in Europe. Could you tell me what types you have?\n",
      "- Could you recommend a picture book for a six-year-old kid?\n",
      "- Could you keep my valuables, please?\n",
      "- It's the airlines' fault. Could you arrange another flight, please?\n",
      "\n",
      "Cluster  2 :\n",
      "- I don't like the color. Show me another one, please.\n",
      "- Show me the wine list, please.\n",
      "- I'm not happy with this room. Would you show me another one?\n",
      "- Please show me some leather gloves.\n",
      "- Show me your driver's license, please.\n",
      "- Please show me this one, the fourth from the right.\n",
      "- Will you show me some others?\n",
      "- Would you show me a hair catalogue or something, please?\n",
      "- Will you show me a waterproof coat?\n",
      "- Could you show me your passport and customs form, please?\n",
      "\n",
      "Cluster  3 :\n",
      "- Let's get a bite to eat.\n",
      "- I'm at the airport right now. How can I get to your place?\n",
      "- You can get it at the book store or souvenir shop.\n",
      "- How do I get to this place?\n",
      "- You'll get it at the gate.\n",
      "- Tell me when we get to the museum.\n",
      "- Can I get a beer, please? I'd like another beer.\n",
      "- How can I get to the Twin Towers by subway?\n",
      "- When you get there, ask someone else, please.\n",
      "- Well then, I guess I'll have to get it next time.\n",
      "\n",
      "Cluster  4 :\n",
      "- No, they tend to pamper their children. Some Japanese parents can't say No to them.\n",
      "- That's very nice of you to say that.\n",
      "- It is hard to say good-bye.\n",
      "- Oh no. He's saying something to me. What should I do?\n",
      "- Say, do you know anything worth seeing near here?\n",
      "- The doctor says you can come right now. The clinic is in front of this hotel.\n",
      "- I can't make out what you are saying.\n",
      "- It says \"KEEP LANE\".\n",
      "- When did you say we should hand in our paper by?\n",
      "- I don't understand what you are saying.\n",
      "\n",
      "Cluster  5 :\n",
      "- Please give us a seat up front.\n",
      "- Give me a shampoo and style it as it is now, please.\n",
      "- Could you give me a twin for tonight?\n",
      "- Please give me some gauze.\n",
      "- Will you give me the receipts with the details of medical treatment?\n",
      "- I'll give you an painkiller.\n",
      "- I will change flights if you give me five thousand miles.\n",
      "- Here's my business card. Could you give me yours, please?\n",
      "- Give me some tissue.\n",
      "- Couldn't you give it to me for a little less?\n",
      "\n",
      "Cluster  6 :\n",
      "- Oh, yes. We're proud of our good reputation among Japanese customers. I'm sure you won't need to bring those little packets of soy sauce.\n",
      "\n",
      "Cluster  7 :\n",
      "- No worry about that. I'll take it and you need not wrap it up.\n",
      "- Sorry, I'll take care of the dog.\n",
      "- I'm taking flight twelve to Tokyo.\n",
      "- What days of the week does it take place?\n",
      "- Will you take a picture together with me?\n",
      "- Is it possible to take different routes going and coming back?\n",
      "- Please take me to the morning market.\n",
      "- Excuse me. Could you please take a picture of me?\n",
      "- Hi, Jean. Can you take those to the cleaners?\n",
      "- Will you take it with you or shall we send it?\n",
      "\n",
      "Cluster  8 :\n",
      "- I would like two tickets for \"Cats\", for this Thursday.\n",
      "- Do you have any tickets left for \"Miss Saigon\" tomorrow's matinee?\n",
      "- Round trip ticket to Chicago, please.\n",
      "- Two reserved seat tickets to Washington D.C. at eight o'clock, please.\n",
      "- Can I have two second class tickets to Chicago, please?\n",
      "- Thanks. When and where should I pick up my ticket?\n",
      "- Is this ticket valid only for the designated day?\n",
      "- Can I buy tickets for a sightseeing bus here?\n",
      "- Yes, please. My name's Kurosawa. Until when can you hold my ticket?\n",
      "- Where can I buy a lift ticket?\n",
      "\n",
      "Cluster  9 :\n",
      "- Please input your pin number.\n",
      "- I give you his telephone number and address.\n",
      "- Just write your room number and sign here.\n",
      "- The flight number is SE one o three to Tokyo, on the second of April.\n",
      "- What's the flight number?\n",
      "- I'm back. A key for number eight o two, please.\n",
      "- May I have the name and the number of the party you're calling?\n",
      "- What's my room number?\n",
      "- Here are my phone number and e-mail address.\n",
      "- Sorry, I have the wrong number.\n"
     ]
    }
   ],
   "source": [
    "nclusters = 20\n",
    "clusters = cluster_sentences(en_phr, tfidf_vectorizer, nclusters)\n",
    "for cluster in range(10):\n",
    "    print(\"\\nCluster \", cluster, \":\")\n",
    "    for i, sentence in enumerate(clusters[cluster]):\n",
    "        if i < 10:\n",
    "            print(\"-\", en_phr[sentence])"
   ]
  },
  {
   "cell_type": "markdown",
   "metadata": {},
   "source": [
    "The short average sentence length made the clustering results vary greatly, but after a few runs, it yielded some very observation into the corpus such as:\n",
    "- *Cluster 0* pertains to questions asking for price. Many of them were clustered around the phrase \"how much\" but others were also able to pick up on this price context with phrases such as \"too much\" and \"good value\".\n",
    "- *Cluster 1* is mostly favor asking questions that grouped around \"could you\".\n",
    "- *Cluster 4* is about \"saying\" but in widely varying context.\n",
    "- *Cluster 6* only contained 1 sentence, which was probably due to its very specific and abnormally long sentence length.\n",
    "- *Cluster 9* grouped around \"number\" for phone, flight, pin, and room."
   ]
  },
  {
   "cell_type": "markdown",
   "metadata": {},
   "source": [
    "## 2. Simple implementation of keyword search translation\n",
    "\n",
    "After an in-depth analysis of what BTEC sentences look like, we decided to implement a simple, brute-force search algorithm for matching the user's keywords to candidate sentences. One optimization we took to speed up look up was to differentiate between a query that contained \"?\" and not. The dictionary containing \"?\" was smaller than the original, thus speeding up the lookup for questions. This process was however confusing due to Python interpreting Arabic script as Right-to-Left but still interpreting question marks as normal Left-to-Right script."
   ]
  },
  {
   "cell_type": "code",
   "execution_count": 222,
   "metadata": {
    "collapsed": true
   },
   "outputs": [],
   "source": [
    "# English Dictionary containing ID and sentence\n",
    "# Separate Dictionary only containing questions\n",
    "endic = {}\n",
    "q_en_dic = {}\n",
    "ardic = {}\n",
    "\n",
    "# Counter variable to keep track of sentence ID\n",
    "counter = 0\n",
    "with open('clean/ar','r', encoding='utf-8') as arf:\n",
    "    for line in arf:\n",
    "        line = line[:-1]\n",
    "        ardic[counter] = line\n",
    "        counter += 1\n",
    "\n",
    "counter = 0\n",
    "with open('en', 'r') as f:\n",
    "    for line in f:\n",
    "        line = line[:-1]\n",
    "        endic[counter] = line\n",
    "        if line[-1] == \"?\":\n",
    "            q_en_dic[counter] = line\n",
    "        counter += 1"
   ]
  },
  {
   "cell_type": "code",
   "execution_count": 85,
   "metadata": {
    "collapsed": true
   },
   "outputs": [],
   "source": [
    "# candidate function that takes in the dic and keyword query.\n",
    "def candidate(dic, query):\n",
    "    cand = {}\n",
    "    counter = 0\n",
    "    onlykey = 0\n",
    "    for k,v in dic.items():\n",
    "        # Fastest way to check if a string contained substring\n",
    "        # was to use set instead of list or string.\n",
    "        sentset = set(word_tokenize(dic[k].strip().lower()))\n",
    "        queryset = set(query)\n",
    "        if queryset.issubset(sentset):\n",
    "            onlykey = k\n",
    "            cand[k] = dic[k]\n",
    "            counter += 1\n",
    "    # Returns a dictionary and key\n",
    "    return [cand, onlykey]"
   ]
  },
  {
   "cell_type": "code",
   "execution_count": 137,
   "metadata": {},
   "outputs": [],
   "source": [
    "# If there is only one sentence containing relevant keyword\n",
    "# Automatically translates to the sentence\n",
    "# Otherwise, the user will type in the ID he/she wants translated.\n",
    "def choice(cand1, only):\n",
    "    if len(cand1) == 1:\n",
    "        print(\"\\n--- There was only one match. ---\\n\")\n",
    "        print(cand1[only])\n",
    "        print(\"\\n--- In Arabic ---\\n\")\n",
    "        print(ardic[only]+\"\\n\")\n",
    "            \n",
    "    elif len(cand1) > 0:\n",
    "        print(\"\\n--- Choose a sentence among \"+ str(len(cand1))+\" sentences---\\n\")\n",
    "        for k,v in cand1.items():\n",
    "            print(str(k) + \": \" + v)\n",
    "            print()\n",
    "        print(\"\\nType in sentence ID: \\n\")\n",
    "        choice = int(input())\n",
    "        print(\"\\n--- Here's your translation ---\\n\")\n",
    "        print(ardic[choice]+'\\n')\n",
    "        \n",
    "    else:\n",
    "        print(\"\\n--- Sorry, no sentence match for your query. Please try again ---\")"
   ]
  },
  {
   "cell_type": "code",
   "execution_count": 138,
   "metadata": {
    "collapsed": true
   },
   "outputs": [],
   "source": [
    "# Main function that receives the keyword string as its parameter.\n",
    "def translate_this(query):\n",
    "    print(\"\\nWelcome to qt.py!\\n\")\n",
    "    query = word_tokenize(query.strip().lower())\n",
    "\n",
    "    if \"?\" in query:\n",
    "        qcand1 = candidate(q_en_dic, query)[0]\n",
    "        qonly = candidate(q_en_dic, query)[1]\n",
    "        choice(qcand1, qonly)\n",
    "    else:\n",
    "        cand1 = candidate(endic, query)[0]\n",
    "        only = candidate(endic, query)[1]\n",
    "        choice(cand1, only)"
   ]
  },
  {
   "cell_type": "markdown",
   "metadata": {},
   "source": [
    "### Test Run\n",
    "\n",
    "Below I run some sample keyword queries into the **translate_this** function."
   ]
  },
  {
   "cell_type": "code",
   "execution_count": 92,
   "metadata": {},
   "outputs": [
    {
     "name": "stdout",
     "output_type": "stream",
     "text": [
      "\n",
      "Welcome to qt.py!\n",
      "\n",
      "\n",
      "--- Choose a sentence ---\n",
      "\n",
      "10605: How much is it from Boston to New York by bus?\n",
      "\n",
      "15933: How much is the bus fare to Boston?\n",
      "\n",
      "\n",
      "Type in sentence ID: \n",
      "\n",
      "10605\n",
      "\n",
      "--- Here's your translation ---\n",
      "\n",
      "كم أجرة الحافلة من بوسطن إلى نيويورك ؟\n",
      "\n"
     ]
    }
   ],
   "source": [
    "translate_this(\"how much bus ?\")"
   ]
  },
  {
   "cell_type": "code",
   "execution_count": 94,
   "metadata": {},
   "outputs": [
    {
     "name": "stdout",
     "output_type": "stream",
     "text": [
      "\n",
      "Welcome to qt.py!\n",
      "\n",
      "\n",
      "--- There was only one match. ---\n",
      "\n",
      "My friend has been hit by a car.\n",
      "\n",
      "--- In Arabic ---\n",
      "\n",
      "صدمت أحد السيارات صديقي .\n",
      "\n"
     ]
    }
   ],
   "source": [
    "translate_this(\"friend hit car\")"
   ]
  },
  {
   "cell_type": "code",
   "execution_count": 95,
   "metadata": {},
   "outputs": [
    {
     "name": "stdout",
     "output_type": "stream",
     "text": [
      "\n",
      "Welcome to qt.py!\n",
      "\n",
      "\n",
      "--- There was only one match. ---\n",
      "\n",
      "Where can I have the best local food?\n",
      "\n",
      "--- In Arabic ---\n",
      "\n",
      "أين يمكن أن أجد أفضل طعام محلي ؟\n",
      "\n"
     ]
    }
   ],
   "source": [
    "translate_this(\"where local food ?\")"
   ]
  },
  {
   "cell_type": "code",
   "execution_count": 28,
   "metadata": {},
   "outputs": [
    {
     "name": "stdout",
     "output_type": "stream",
     "text": [
      "\n",
      "Welcome to qt.py!\n",
      "\n",
      "\n",
      "--- Choose a sentence ---\n",
      "\n",
      "17408: Excuse me, how can I get to the station?\n",
      "\n",
      "3282: How do I get back to Charing Cross Station?\n",
      "\n",
      "17066: How long does it take to get to the station by taxi?\n",
      "\n",
      "18795: How do I get to the station?\n",
      "\n",
      "1356: How many minutes does it take to get to the station by taxi?\n",
      "\n",
      "15722: Excuse me. Could you tell me how to get to the station?\n",
      "\n",
      "\n",
      "Type in sentence ID: \n",
      "\n",
      "17408\n",
      "\n",
      "--- Here's your translation ---\n",
      "\n",
      "معذرة كيف أذهب إلى المحطة ؟\n",
      "\n"
     ]
    }
   ],
   "source": [
    "translate_this(\"how get to station ?\")"
   ]
  },
  {
   "cell_type": "markdown",
   "metadata": {},
   "source": [
    "## 3. Candidate Sentence Filtering Using Jaccard Similarity\n",
    "\n",
    "From the output of **translate_this(\"how get to station ?\")**, we can see that BTEC contains multiple sentences of the same meaning. To optimize the lookup speed, we can try removing duplicates so that we don't have to iterate through as many sentences when doing the search."
   ]
  },
  {
   "cell_type": "markdown",
   "metadata": {},
   "source": [
    "#### Jaccard Similarity Index\n",
    "\n",
    "\n",
    "As a way to evaluate \"similarity\" between query and candidate sentence, we used Jaccard Similarity Index on tokenized and stemmed input. Jaccard Index was chosen over other methods because it can be given the proximity of the two data sets efficiently without the use of data redundancy (Niwattanakul, 2013). The threshold is set to 50%, which means that if more than 50% of the tokens match between the two strings, it will evaluate to True (i.e. similar)."
   ]
  },
  {
   "cell_type": "code",
   "execution_count": 228,
   "metadata": {},
   "outputs": [],
   "source": [
    "from nltk.tokenize import WordPunctTokenizer\n",
    "from nltk.corpus import wordnet\n",
    "from nltk import pos_tag\n",
    "import string\n",
    "\n",
    "# POS tagging using Wordnet\n",
    "def get_wordnet_pos(pos_tag):\n",
    "    if pos_tag[1].startswith('J'):\n",
    "        return (pos_tag[0], wordnet.ADJ)\n",
    "    elif pos_tag[1].startswith('V'):\n",
    "        return (pos_tag[0], wordnet.VERB)\n",
    "    elif pos_tag[1].startswith('N'):\n",
    "        return (pos_tag[0], wordnet.NOUN)\n",
    "    elif pos_tag[1].startswith('R'):\n",
    "        return (pos_tag[0], wordnet.ADV)\n",
    "    else :\n",
    "        return (pos_tag[0], wordnet.NOUN)\n",
    "    \n",
    "# Create tokenizer and stemmer\n",
    "tokenizer = WordPunctTokenizer()\n",
    "lemmatizer = nltk.stem.wordnet.WordNetLemmatizer()\n",
    "\n",
    "def jaccard_similar(a, b, threshold):\n",
    "    pos_a = map(get_wordnet_pos, pos_tag(tokenizer.tokenize(a)))\n",
    "    pos_b = map(get_wordnet_pos, pos_tag(tokenizer.tokenize(b)))\n",
    "    \n",
    "    lemmae_a = [lemmatizer.lemmatize(token.lower().strip(string.punctuation), pos) for token, pos in pos_a\\\n",
    "      if pos == wordnet.NOUN and token.lower().strip(string.punctuation) not in stopset]\n",
    "    lemmae_b = [lemmatizer.lemmatize(token.lower().strip(string.punctuation), pos) for token, pos in pos_b\\\n",
    "      if pos == wordnet.NOUN and token.lower().strip(string.punctuation) not in stopset]\n",
    "    \n",
    "    # Jaccard similarity\n",
    "    ratio = len(set(lemmae_a).intersection(lemmae_b)) / float(len(set(lemmae_a).union(lemmae_b)))\n",
    "    return (ratio >= threshold)"
   ]
  },
  {
   "cell_type": "markdown",
   "metadata": {},
   "source": [
    "#### Test run of Jaccard Similarity\n",
    "\n",
    "Using candiate sentences from **translate_this(\"how get to station ?\")**"
   ]
  },
  {
   "cell_type": "code",
   "execution_count": 152,
   "metadata": {},
   "outputs": [
    {
     "data": {
      "text/plain": [
       "False"
      ]
     },
     "execution_count": 152,
     "metadata": {},
     "output_type": "execute_result"
    }
   ],
   "source": [
    "station1 = 'How many minutes does it take to get to the station by taxi?'\n",
    "station2 = 'how get to station ?'\n",
    "jaccard_similar(station1, station2, 0.5)"
   ]
  },
  {
   "cell_type": "code",
   "execution_count": 151,
   "metadata": {},
   "outputs": [
    {
     "data": {
      "text/plain": [
       "True"
      ]
     },
     "execution_count": 151,
     "metadata": {},
     "output_type": "execute_result"
    }
   ],
   "source": [
    "station1 = 'How do I get to the station?'\n",
    "station2 = 'how get to station ?'\n",
    "jaccard_similar(station1, station2, 0.5)"
   ]
  },
  {
   "cell_type": "code",
   "execution_count": 153,
   "metadata": {},
   "outputs": [
    {
     "data": {
      "text/plain": [
       "False"
      ]
     },
     "execution_count": 153,
     "metadata": {},
     "output_type": "execute_result"
    }
   ],
   "source": [
    "station1 = 'how get to station ?'\n",
    "station2 = 'How do I get back to Charing Cross Station?'\n",
    "jaccard_similar(station1, station2, 0.5)"
   ]
  },
  {
   "cell_type": "markdown",
   "metadata": {
    "collapsed": true
   },
   "source": [
    "### Updating the originial candidate search function\n",
    "\n",
    "We can now update the original candidate search function using this Jaccard Similarity filtering. By incorporating this extra filter that decides if a candidate sentence is a \"close enough\" match or not, we can narrow down the options so that the user can choose from a more curated selection of sentences to translate."
   ]
  },
  {
   "cell_type": "code",
   "execution_count": 226,
   "metadata": {},
   "outputs": [],
   "source": [
    "# Updated candidate function that checks if the sentence is more than 50% similar to the user's keywords.\n",
    "def jac_candidate(dic, query):\n",
    "    cand = {}\n",
    "    counter = 0\n",
    "    onlykey = 0\n",
    "    for k,v in dic.items():\n",
    "        sentset = set(word_tokenize(dic[k].strip().lower()))\n",
    "        queryset = set(word_tokenize(query.strip().lower()))\n",
    "        if queryset.issubset(sentset):\n",
    "            if jaccard_similar(dic[k], query, 0.5):\n",
    "                onlykey = k\n",
    "                cand[k] = dic[k]\n",
    "                counter += 1\n",
    "    return [cand, onlykey]"
   ]
  },
  {
   "cell_type": "code",
   "execution_count": 227,
   "metadata": {
    "collapsed": true
   },
   "outputs": [],
   "source": [
    "def jac_translate_this(query):\n",
    "    print(\"\\nWelcome to qt.py!\\n\")\n",
    "\n",
    "    if \"?\" in query:\n",
    "        qcand1 = jac_candidate(q_en_dic, query)[0]\n",
    "        qonly = jac_candidate(q_en_dic, query)[1]\n",
    "        choice(qcand1, qonly)\n",
    "    else:\n",
    "        cand1 = jac_candidate(endic, query)[0]\n",
    "        only = jac_candidate(endic, query)[1]\n",
    "        choice(cand1, only)"
   ]
  },
  {
   "cell_type": "markdown",
   "metadata": {},
   "source": [
    "#### Test run of the updated search function\n",
    "\n",
    "Using candiate sentences from **translate_this(\"how get to station ?\")**"
   ]
  },
  {
   "cell_type": "code",
   "execution_count": 156,
   "metadata": {},
   "outputs": [
    {
     "name": "stdout",
     "output_type": "stream",
     "text": [
      "\n",
      "Welcome to qt.py!\n",
      "\n",
      "\n",
      "--- There was only one match. ---\n",
      "\n",
      "How do I get to the station?\n",
      "\n",
      "--- In Arabic ---\n",
      "\n",
      "كيف أصل إلى المحطة ؟\n",
      "\n"
     ]
    }
   ],
   "source": [
    "jac_translate_this('how get to station ?')"
   ]
  },
  {
   "cell_type": "markdown",
   "metadata": {},
   "source": [
    "#### Side-by-side comparison for \"recommend good restaurant ?\"\n",
    "\n",
    "Below code shows a direct comparison of the candidate sentences yielded from the old search function and Jaccard search function. When using query \"recommend good restaurant ?\" we can see that no filtering returns 7 candidate sentences while sentence similarity filtering yields 5 more accurate matches.\n"
   ]
  },
  {
   "cell_type": "code",
   "execution_count": 159,
   "metadata": {},
   "outputs": [
    {
     "name": "stdout",
     "output_type": "stream",
     "text": [
      "\n",
      "Welcome to qt.py!\n",
      "\n",
      "\n",
      "--- Choose a sentence among 7 sentences---\n",
      "\n",
      "12882: Excuse me. Would you recommend a good restaurant in this hotel?\n",
      "\n",
      "4117: Could you recommend a good restaurant?\n",
      "\n",
      "12616: Can you recommend a good restaurant near here?\n",
      "\n",
      "7724: Could you recommend a good restaurant near here?\n",
      "\n",
      "1149: Could you recommend a good French restaurant?\n",
      "\n",
      "10974: Could you recommend a good, inexpensive restaurant near this hotel?\n",
      "\n",
      "14581: Would you please recommend a good restaurant?\n",
      "\n",
      "\n",
      "Type in sentence ID: \n",
      "\n",
      "1149\n",
      "\n",
      "--- Here's your translation ---\n",
      "\n",
      "هل لك أن تقترح مطعماُ فرنسياً جيداً ؟\n",
      "\n"
     ]
    }
   ],
   "source": [
    "translate_this('recommend good restaurant ?')"
   ]
  },
  {
   "cell_type": "code",
   "execution_count": 161,
   "metadata": {},
   "outputs": [
    {
     "name": "stdout",
     "output_type": "stream",
     "text": [
      "\n",
      "Welcome to qt.py!\n",
      "\n",
      "\n",
      "--- Choose a sentence among 5 sentences---\n",
      "\n",
      "12616: Can you recommend a good restaurant near here?\n",
      "\n",
      "14581: Would you please recommend a good restaurant?\n",
      "\n",
      "7724: Could you recommend a good restaurant near here?\n",
      "\n",
      "1149: Could you recommend a good French restaurant?\n",
      "\n",
      "4117: Could you recommend a good restaurant?\n",
      "\n",
      "\n",
      "Type in sentence ID: \n",
      "\n",
      "4117\n",
      "\n",
      "--- Here's your translation ---\n",
      "\n",
      "هل لك أن تزكي لي مطعما جيدا ؟\n",
      "\n"
     ]
    }
   ],
   "source": [
    "jac_translate_this('recommend good restaurant ?')"
   ]
  },
  {
   "cell_type": "markdown",
   "metadata": {},
   "source": [
    "## Conclusion\n",
    "\n",
    "Throughout this notebook, we looked at:\n",
    "\n",
    "1. Corpus analysis\n",
    "2. Simple search\n",
    "3. Optimization of search using Jaccard Similarity Index\n",
    "\n",
    "This is a starting point for implementing a much more robust search algorithm for English-Arabic phrasal conversation system. There is a wide range of possible optimizations that this project can take, including:\n",
    "\n",
    "- Gender and age specification\n",
    "- Removal of duplicates in the corpus\n",
    "- Changing named entities to variables that can be dynamically replaced\n",
    "- Improving lookup speed\n",
    "\n"
   ]
  },
  {
   "cell_type": "markdown",
   "metadata": {},
   "source": [
    "## Bibliography"
   ]
  },
  {
   "cell_type": "markdown",
   "metadata": {},
   "source": [
    "Jayaratne, N. (2002). U.S. Patent Application No. 10/081,773.\n",
    "\n",
    "Niwattanakul, S., Singthongchai, J., Naenudorn, E., & Wanapu, S. (2013, March). Using of Jaccard coefficient for keywords similarity. In Proceedings of the International MultiConference of Engineers and Computer Scientists (Vol. 1, p. 6).\n",
    "\n",
    "Sutskever, I., Vinyals, O., & Le, Q. V. (2014). Sequence to sequence learning with neural networks. In Advances in neural information processing systems (pp. 3104-3112).\n",
    "\n",
    "Wu, Y., Schuster, M., Chen, Z., Le, Q. V., Norouzi, M., Macherey, W., ... & Klingner, J. (2016). Google's Neural Machine Translation System: Bridging the Gap between Human and Machine Translation. arXiv preprint arXiv:1609.08144."
   ]
  }
 ],
 "metadata": {
  "kernelspec": {
   "display_name": "Python [conda env:py35]",
   "language": "python",
   "name": "conda-env-py35-py"
  },
  "language_info": {
   "codemirror_mode": {
    "name": "ipython",
    "version": 3
   },
   "file_extension": ".py",
   "mimetype": "text/x-python",
   "name": "python",
   "nbconvert_exporter": "python",
   "pygments_lexer": "ipython3",
   "version": "3.5.3"
  }
 },
 "nbformat": 4,
 "nbformat_minor": 2
}
